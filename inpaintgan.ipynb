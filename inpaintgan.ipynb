{
 "metadata": {
  "kernelspec": {
   "language": "python",
   "display_name": "Python 3",
   "name": "python3"
  },
  "language_info": {
   "name": "python",
   "version": "3.7.12",
   "mimetype": "text/x-python",
   "codemirror_mode": {
    "name": "ipython",
    "version": 3
   },
   "pygments_lexer": "ipython3",
   "nbconvert_exporter": "python",
   "file_extension": ".py"
  }
 },
 "nbformat_minor": 4,
 "nbformat": 4,
 "cells": [
  {
   "cell_type": "code",
   "source": [],
   "metadata": {
    "execution": {
     "iopub.status.busy": "2023-05-11T05:39:47.447336Z",
     "iopub.execute_input": "2023-05-11T05:39:47.447633Z",
     "iopub.status.idle": "2023-05-11T05:39:47.464916Z",
     "shell.execute_reply.started": "2023-05-11T05:39:47.447604Z",
     "shell.execute_reply": "2023-05-11T05:39:47.463938Z"
    },
    "trusted": true
   },
   "execution_count": 2,
   "outputs": []
  },
  {
   "cell_type": "code",
   "source": [],
   "metadata": {
    "_uuid": "8f2839f25d086af736a60e9eeb907d3b93b6e0e5",
    "_cell_guid": "b1076dfc-b9ad-4769-8c92-a6c4dae69d19",
    "scrolled": true,
    "execution": {
     "iopub.status.busy": "2023-05-11T05:39:47.707367Z",
     "iopub.execute_input": "2023-05-11T05:39:47.707740Z",
     "iopub.status.idle": "2023-05-11T05:39:47.749044Z",
     "shell.execute_reply.started": "2023-05-11T05:39:47.707704Z",
     "shell.execute_reply": "2023-05-11T05:39:47.747940Z"
    },
    "trusted": true
   },
   "execution_count": 3,
   "outputs": []
  },
  {
   "cell_type": "code",
   "source": [],
   "metadata": {
    "execution": {
     "iopub.status.busy": "2023-05-11T05:39:47.751582Z",
     "iopub.execute_input": "2023-05-11T05:39:47.752494Z",
     "iopub.status.idle": "2023-05-11T05:39:47.815848Z",
     "shell.execute_reply.started": "2023-05-11T05:39:47.752463Z",
     "shell.execute_reply": "2023-05-11T05:39:47.814584Z"
    },
    "trusted": true
   },
   "execution_count": 4,
   "outputs": []
  },
  {
   "cell_type": "code",
   "execution_count": 5,
   "outputs": [],
   "source": [],
   "metadata": {
    "collapsed": false,
    "pycharm": {
     "name": "#%%\n"
    }
   }
  },
  {
   "cell_type": "code",
   "execution_count": 6,
   "outputs": [],
   "source": [],
   "metadata": {
    "collapsed": false,
    "pycharm": {
     "name": "#%%\n"
    }
   }
  },
  {
   "cell_type": "code",
   "source": [],
   "metadata": {
    "execution": {
     "iopub.status.busy": "2023-05-11T05:39:48.035794Z",
     "iopub.execute_input": "2023-05-11T05:39:48.037016Z",
     "iopub.status.idle": "2023-05-11T05:39:48.054195Z",
     "shell.execute_reply.started": "2023-05-11T05:39:48.036973Z",
     "shell.execute_reply": "2023-05-11T05:39:48.052653Z"
    },
    "trusted": true
   },
   "execution_count": 7,
   "outputs": []
  },
  {
   "cell_type": "markdown",
   "source": [
    "# Utils"
   ],
   "metadata": {}
  },
  {
   "cell_type": "code",
   "source": [],
   "metadata": {
    "execution": {
     "iopub.status.busy": "2023-05-11T05:39:48.056166Z",
     "iopub.execute_input": "2023-05-11T05:39:48.056549Z",
     "iopub.status.idle": "2023-05-11T05:39:48.101167Z",
     "shell.execute_reply.started": "2023-05-11T05:39:48.056510Z",
     "shell.execute_reply": "2023-05-11T05:39:48.100176Z"
    },
    "trusted": true
   },
   "execution_count": 8,
   "outputs": []
  },
  {
   "cell_type": "code",
   "source": [],
   "metadata": {
    "execution": {
     "iopub.status.busy": "2023-05-11T05:39:48.105614Z",
     "iopub.execute_input": "2023-05-11T05:39:48.105974Z",
     "iopub.status.idle": "2023-05-11T05:39:48.166991Z",
     "shell.execute_reply.started": "2023-05-11T05:39:48.105945Z",
     "shell.execute_reply": "2023-05-11T05:39:48.165930Z"
    },
    "trusted": true
   },
   "execution_count": 9,
   "outputs": []
  },
  {
   "cell_type": "code",
   "source": [
    "# config = Config()\n",
    "# edgeConnect = EdgeConnect(config)\n",
    "# edgeConnect.train()\n",
    "\n",
    "# %run inpaintgan.ipynb\n",
    "import os.path\n",
    "import sys\n",
    "if \"tkinter\" not in sys.modules:\n",
    "    import tkinter as tk\n",
    "from tkinter import ttk\n",
    "from tkinter import filedialog\n",
    "from PIL import Image, ImageTk\n",
    "from PIL import ImageDraw\n",
    "\n",
    "import torch\n",
    "import torchvision.transforms.functional as F\n",
    "from torchinfo import summary\n",
    "\n",
    "\n",
    "\n",
    "class ImageUploader(tk.Tk):\n",
    "    def __init__(self):\n",
    "        super().__init__()\n",
    "        self.geometry(\"1600x1300\")\n",
    "        self.create_widgets()\n",
    "        self.eraser_active = False  # Flag to keep track of eraser button state\n",
    "        self.image_loaded = False  # Flag to keep track of whether an image is loaded\n",
    "        self.mask = None\n",
    "        self.mask_photo = None\n",
    "        self.image = None\n",
    "        self.photo = None\n",
    "        self.edgeConfig = Config()\n",
    "        self.edgeConfig.MODE = 4\n",
    "        self.edgeConfig.MASK = 6\n",
    "        self.edgeConnect = EdgeConnect(self.edgeConfig)\n",
    "        self.edgeConnect.load()\n",
    "\n",
    "        # Variables to store mouse coordinates\n",
    "        self.start_x = None\n",
    "        self.start_y = None\n",
    "\n",
    "    def create_widgets(self):\n",
    "        eraser_icon = Image.open(\n",
    "            \"screens/assets/eraser_icon.png\")  # Replace \"eraser_icon.png\" with the actual file path of the icon image\n",
    "        eraser_icon = eraser_icon.resize((32, 32))  # Resize the icon to desired dimensions\n",
    "        self.eraser_image = ImageTk.PhotoImage(eraser_icon)\n",
    "\n",
    "        self.eraser_button = tk.Button(self, image=self.eraser_image,  width=60, height=60, command=self.toggle_eraser, bd=1, highlightthickness=0, activebackground=\"gray\")\n",
    "        self.eraser_button.pack(side=tk.TOP, padx=10, pady=10, anchor=tk.N)\n",
    "\n",
    "        self.image_label = tk.Label(self)\n",
    "        self.image_label.pack(side=tk.LEFT, pady=10, padx=(0, 20), anchor=tk.NE)\n",
    "\n",
    "        self.mask_label = tk.Label(self)\n",
    "        self.mask_label.pack(side=tk.RIGHT, pady=10, padx=(20, 0), anchor=tk.NW)\n",
    "\n",
    "        self.error_label = tk.Label(self, fg=\"red\")\n",
    "        self.error_label.pack(side=tk.BOTTOM, pady=10)\n",
    "\n",
    "        self.fill_button = tk.Button(self, text=\"Fill Image\", width=20, height=2, command=self.fill_image)\n",
    "        self.fill_button.pack(side=tk.BOTTOM, pady=10, anchor=tk.S)\n",
    "\n",
    "        self.upload_button = tk.Button(self, text=\"Upload Image\", width=20, height=2, command=self.upload_image)\n",
    "        self.upload_button.pack(side=tk.BOTTOM, pady=10, anchor=tk.S)\n",
    "\n",
    "        self.name_label = tk.Label(self, text=\"\")\n",
    "        self.name_label.pack(side=tk.BOTTOM, pady=10, anchor=tk.S)\n",
    "\n",
    "    def upload_image(self):\n",
    "        file_path = filedialog.askopenfilename(filetypes=((\"Image files\", \"*.jpg;*.jpeg;*.png\"), (\"All files\", \"*.*\")))\n",
    "        if file_path:\n",
    "            self.image = Image.open(file_path)\n",
    "            width, height = self.image.size\n",
    "            if width > 600 or height > 800:\n",
    "                ratio = min(600 / width, 800 / height)\n",
    "                width = int(width * ratio)\n",
    "                height = int(height * ratio)\n",
    "                self.image = self.image.resize((width, height), Image.ANTIALIAS)\n",
    "            new_size = (max(width, height), max(width, height))\n",
    "            new_image = Image.new(\"RGBA\", new_size, (0, 0, 0, 0))\n",
    "            # Calculate the position to paste the original image without distortion\n",
    "            paste_position = ((new_size[0] - self.image.width) // 2, (new_size[1] - self.image.height) // 2)\n",
    "            # Paste the original image onto the new blank image\n",
    "            new_image.paste(self.image, paste_position)\n",
    "            self.image = new_image\n",
    "\n",
    "            self.mask = Image.new(\"L\", self.image.size)\n",
    "\n",
    "            self.photo = ImageTk.PhotoImage(self.image)\n",
    "            self.image_label.config(image=self.photo)\n",
    "            self.image_label.image = self.photo\n",
    "\n",
    "            self.mask_photo = ImageTk.PhotoImage(self.mask)\n",
    "            self.mask_label.config(image=self.mask_photo)\n",
    "            self.mask_label.image = self.mask_photo\n",
    "\n",
    "            self.name_label.config(text=\"File Name: \" + os.path.basename(file_path))\n",
    "            self.error_label.config(text=\"\")\n",
    "            self.image_loaded = True\n",
    "\n",
    "    def fill_image(self):\n",
    "        if self.image_loaded:\n",
    "            self.image.save('./image_mask.png')\n",
    "            self.mask.save('./mask.png')\n",
    "            # image_np = np.array(self.image)\n",
    "            # # Convert the NumPy array to OpenCV format\n",
    "            # image_cv = cv2.cvtColor(image_np, cv2.COLOR_RGB2BGR)\n",
    "            # image_cv = self.resize(image_cv, 256, 256)\n",
    "            # # Convert the mask image to grayscale\n",
    "            # mask_image_gray = self.mask.convert(\"L\")\n",
    "            #\n",
    "            # # Convert the grayscale image to a NumPy array\n",
    "            # mask_array = np.array(mask_image_gray)\n",
    "            # mask_array = self.resize(mask_array, 256, 256)\n",
    "            # print(summary(self.edgeConnect.edge_model.get_submodule('generator'),(8, 3, 256, 256)))\n",
    "            resultA = self.edgeConnect.fill_image(self.image.size[0])\n",
    "            result = self.edgeConnect.postprocess(resultA)\n",
    "            im = np.array(result.cpu()).astype(np.uint8).squeeze()\n",
    "            im = Image.fromarray(im)\n",
    "            im = im.resize(self.image.size, Image.ANTIALIAS)\n",
    "            im.save('./output.png')\n",
    "            self.photo = ImageTk.PhotoImage(im)\n",
    "            self.image_label.config(image=self.photo)\n",
    "        else:\n",
    "            self.error_label.config(text=\"Error: No image uploaded\")\n",
    "\n",
    "    def toggle_eraser(self):\n",
    "        self.eraser_active = not self.eraser_active  # Toggle eraser button state\n",
    "        if self.eraser_active:\n",
    "            # Change mouse cursor to eraser icon\n",
    "            self.config(cursor=\"spraycan\")\n",
    "            self.eraser_button.configure(background=\"gray\")\n",
    "            self.image_label.bind(\"<Button-1>\", self.start_drawing)\n",
    "            self.image_label.bind(\"<B1-Motion>\", self.erase_pixel)\n",
    "            self.image_label.bind(\"<ButtonRelease-1>\", self.stop_drawing)\n",
    "        else:\n",
    "            # Change mouse cursor back to normal and eraser button background to white\n",
    "            self.config(cursor=\"\")\n",
    "            self.eraser_button.configure(background=\"white\")\n",
    "            self.image_label.unbind(\"<Button-1>\")\n",
    "            self.image_label.unbind(\"<B1-Motion>\")\n",
    "            self.image_label.unbind(\"<ButtonRelease-1>\")\n",
    "\n",
    "    def start_drawing(self, event):\n",
    "        if self.image_loaded:\n",
    "            self.start_x = event.x\n",
    "            self.start_y = event.y\n",
    "\n",
    "    def resize(self, img, height, width, centerCrop=True):\n",
    "        imgh, imgw = img.shape[0:2]\n",
    "        if centerCrop and imgh != imgw:\n",
    "            # center crop\n",
    "            side = np.minimum(imgh, imgw)\n",
    "            j = (imgh - side) // 2\n",
    "            i = (imgw - side) // 2\n",
    "            img = img[j:j + side, i:i + side, ...]\n",
    "\n",
    "        img = cv2.resize(img, (height, width))\n",
    "        return img\n",
    "\n",
    "    def stop_drawing(self, event):\n",
    "        if self.image_loaded:\n",
    "            self.start_x = None\n",
    "            self.start_y = None\n",
    "\n",
    "    def erase_pixel(self, event):\n",
    "        if self.image_loaded and self.start_x is not None and self.start_y is not None:\n",
    "            draw = ImageDraw.Draw(self.image)\n",
    "            draw.line((self.start_x, self.start_y, event.x, event.y), fill=\"#ffffff\", width=10)\n",
    "\n",
    "            mask_draw = ImageDraw.Draw(self.mask)\n",
    "            mask_draw.line((self.start_x, self.start_y, event.x, event.y), fill=\"#ffffff\", width=10)\n",
    "\n",
    "            self.mask_photo = ImageTk.PhotoImage(self.mask)\n",
    "            self.mask_label.config(image=self.mask_photo)\n",
    "\n",
    "            # Update self.photo with the modified image\n",
    "            self.photo = ImageTk.PhotoImage(self.image)\n",
    "            self.image_label.config(image=self.photo)\n",
    "\n",
    "            # Update starting position to the current position\n",
    "            self.start_x = event.x\n",
    "            self.start_y = event.y\n",
    "if __name__ == \"__main__\":\n",
    "    gui = ImageUploader()\n",
    "    gui.mainloop()\n",
    "    # tkinter._test()generator(inputs"
   ],
   "metadata": {
    "execution": {
     "iopub.status.busy": "2023-05-11T05:39:48.168326Z",
     "iopub.execute_input": "2023-05-11T05:39:48.169148Z",
     "iopub.status.idle": "2023-05-11T05:40:01.195680Z",
     "shell.execute_reply.started": "2023-05-11T05:39:48.169109Z",
     "shell.execute_reply": "2023-05-11T05:40:01.193961Z"
    },
    "trusted": true,
    "pycharm": {
     "name": "#%%\n"
    }
   },
   "execution_count": 10,
   "outputs": [
    {
     "name": "stderr",
     "output_type": "stream",
     "text": [
      "c:\\users\\moshpe\\appdata\\local\\programs\\python\\python37\\lib\\site-packages\\torchvision\\models\\_utils.py:209: UserWarning: The parameter 'pretrained' is deprecated since 0.13 and may be removed in the future, please use 'weights' instead.\n",
      "  f\"The parameter '{pretrained_param}' is deprecated since 0.13 and may be removed in the future, \"\n",
      "c:\\users\\moshpe\\appdata\\local\\programs\\python\\python37\\lib\\site-packages\\torchvision\\models\\_utils.py:223: UserWarning: Arguments other than a weight enum or `None` for 'weights' are deprecated since 0.13 and may be removed in the future. The current behavior is equivalent to passing `weights=VGG19_Weights.IMAGENET1K_V1`. You can also use `weights=VGG19_Weights.DEFAULT` to get the most up-to-date weights.\n",
      "  warnings.warn(msg)\n"
     ]
    },
    {
     "name": "stdout",
     "output_type": "stream",
     "text": [
      "in load EdgeModel /kaggle/working\\EdgeModel_gen.pth\n",
      "Loading EdgeModel generator...\n",
      "in load InpaintingModel /kaggle/working\\InpaintingModel_gen.pth\n",
      "Loading InpaintingModel generator...\n"
     ]
    },
    {
     "name": "stderr",
     "output_type": "stream",
     "text": [
      "c:\\users\\moshpe\\appdata\\local\\programs\\python\\python37\\lib\\site-packages\\ipykernel_launcher.py:78: DeprecationWarning: ANTIALIAS is deprecated and will be removed in Pillow 10 (2023-07-01). Use LANCZOS or Resampling.LANCZOS instead.\n",
      "c:\\users\\moshpe\\appdata\\local\\programs\\python\\python37\\lib\\site-packages\\ipykernel_launcher.py:110: DeprecationWarning: `np.float` is a deprecated alias for the builtin `float`. To silence this warning, use `float` by itself. Doing this will not modify any behavior and is safe. If you specifically wanted the numpy scalar type, use `np.float64` here.\n",
      "Deprecated in NumPy 1.20; for more details and guidance: https://numpy.org/devdocs/release/1.20.0-notes.html#deprecations\n"
     ]
    },
    {
     "name": "stdout",
     "output_type": "stream",
     "text": [
      "torch.Size([1, 3, 256, 256])\n"
     ]
    },
    {
     "name": "stderr",
     "output_type": "stream",
     "text": [
      "c:\\users\\moshpe\\appdata\\local\\programs\\python\\python37\\lib\\site-packages\\ipykernel_launcher.py:120: DeprecationWarning: ANTIALIAS is deprecated and will be removed in Pillow 10 (2023-07-01). Use LANCZOS or Resampling.LANCZOS instead.\n"
     ]
    },
    {
     "name": "stdout",
     "output_type": "stream",
     "text": [
      "torch.Size([1, 3, 256, 256])\n",
      "torch.Size([1, 3, 256, 256])\n",
      "torch.Size([1, 3, 256, 256])\n",
      "torch.Size([1, 3, 256, 256])\n"
     ]
    }
   ]
  }
 ]
}